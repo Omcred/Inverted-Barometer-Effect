{
 "cells": [
  {
   "cell_type": "code",
   "execution_count": 2,
   "id": "c5b59d71-b952-4ce2-9ee2-1af9cff22dce",
   "metadata": {},
   "outputs": [
    {
     "name": "stdout",
     "output_type": "stream",
     "text": [
      "Collecting package metadata (current_repodata.json): / WARNING conda.models.version:get_matcher(538): Using .* with relational operator is superfluous and deprecated and will be removed in a future version of conda. Your spec was 1.7.1.*, but conda is ignoring the .* and treating it as 1.7.1\n",
      "done\n",
      "Solving environment: done\n",
      "\n",
      "\n",
      "==> WARNING: A newer version of conda exists. <==\n",
      "  current version: 4.13.0\n",
      "  latest version: 24.5.0\n",
      "\n",
      "Please update conda by running\n",
      "\n",
      "    $ conda update -n base -c defaults conda\n",
      "\n",
      "\n",
      "\n",
      "## Package Plan ##\n",
      "\n",
      "  environment location: /nbhome/ogrp/python/envs/py311_20240513\n",
      "\n",
      "  added / updated specs:\n",
      "    - conda-forge::utide\n",
      "\n",
      "\n",
      "The following packages will be downloaded:\n",
      "\n",
      "    package                    |            build\n",
      "    ---------------------------|-----------------\n",
      "    ca-certificates-2024.6.2   |       hbcca054_0         152 KB\n",
      "    certifi-2024.6.2           |     pyhd8ed1ab_0         157 KB\n",
      "    mpi-1.0                    |            mpich          13 KB\n",
      "    openssl-3.3.1              |       h4ab18f5_0         2.8 MB\n",
      "    ------------------------------------------------------------\n",
      "                                           Total:         3.1 MB\n",
      "\n",
      "The following packages will be UPDATED:\n",
      "\n",
      "  ca-certificates                       2024.2.2-hbcca054_0 --> 2024.6.2-hbcca054_0\n",
      "  certifi                             2024.2.2-pyhd8ed1ab_0 --> 2024.6.2-pyhd8ed1ab_0\n",
      "  mpi                                           conda-forge --> main\n",
      "  openssl                                  3.3.0-h4ab18f5_3 --> 3.3.1-h4ab18f5_0\n",
      "\n",
      "\n",
      "\n",
      "Downloading and Extracting Packages\n",
      "mpi-1.0              | 13 KB     | ##################################### | 100% \n",
      "certifi-2024.6.2     | 157 KB    | ##################################### | 100% \n",
      "openssl-3.3.1        | 2.8 MB    | ##################################### | 100% \n",
      "ca-certificates-2024 | 152 KB    | ##################################### | 100% \n",
      "Preparing transaction: done\n",
      "Verifying transaction: failed\n",
      "\n",
      "EnvironmentNotWritableError: The current user does not have write permissions to the target environment.\n",
      "  environment location: /nbhome/ogrp/python/envs/py311_20240513\n",
      "  uid: 21394\n",
      "  gid: 79\n",
      "\n",
      "\n",
      "\n",
      "Note: you may need to restart the kernel to use updated packages.\n"
     ]
    }
   ],
   "source": [
    "conda install conda-forge::utide"
   ]
  },
  {
   "cell_type": "code",
   "execution_count": null,
   "id": "f2e70eb2-a020-483c-923c-10d8bc799cb4",
   "metadata": {},
   "outputs": [],
   "source": []
  }
 ],
 "metadata": {
  "kernelspec": {
   "display_name": "Python 3 (ipykernel)",
   "language": "python",
   "name": "python3"
  },
  "language_info": {
   "codemirror_mode": {
    "name": "ipython",
    "version": 3
   },
   "file_extension": ".py",
   "mimetype": "text/x-python",
   "name": "python",
   "nbconvert_exporter": "python",
   "pygments_lexer": "ipython3",
   "version": "3.11.9"
  }
 },
 "nbformat": 4,
 "nbformat_minor": 5
}
