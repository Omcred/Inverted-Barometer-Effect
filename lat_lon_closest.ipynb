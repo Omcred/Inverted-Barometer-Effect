{
 "cells": [
  {
   "cell_type": "code",
   "execution_count": 1,
   "id": "82204faa-ab2b-4000-8fdf-d0c3ab43a2b7",
   "metadata": {},
   "outputs": [
    {
     "name": "stdout",
     "output_type": "stream",
     "text": [
      "/work4/jms/gesla\n"
     ]
    }
   ],
   "source": [
    "cd /work/jms/gesla"
   ]
  },
  {
   "cell_type": "code",
   "execution_count": 2,
   "id": "e118a4d5-70fc-4005-8911-57fbf58e6d1a",
   "metadata": {},
   "outputs": [],
   "source": [
    "import xarray as xr"
   ]
  },
  {
   "cell_type": "code",
   "execution_count": 11,
   "id": "af37d725-2d8a-44b4-a9c9-6afb32022d65",
   "metadata": {
    "scrolled": true
   },
   "outputs": [
    {
     "name": "stderr",
     "output_type": "stream",
     "text": [
      "/work4/jms/gesla/gesla.py:54: FutureWarning: Support for nested sequences for 'parse_dates' in pd.read_csv is deprecated. Combine the desired columns with pd.to_datetime after parsing instead.\n",
      "  data = pd.read_csv(\n",
      "/work4/jms/gesla/gesla.py:54: FutureWarning: Support for nested sequences for 'parse_dates' in pd.read_csv is deprecated. Combine the desired columns with pd.to_datetime after parsing instead.\n",
      "  data = pd.read_csv(\n",
      "/work4/jms/gesla/gesla.py:54: FutureWarning: Support for nested sequences for 'parse_dates' in pd.read_csv is deprecated. Combine the desired columns with pd.to_datetime after parsing instead.\n",
      "  data = pd.read_csv(\n"
     ]
    },
    {
     "name": "stdout",
     "output_type": "stream",
     "text": [
      "['Ayukawa' 'Sendaiko' 'Ishinomaki']\n"
     ]
    }
   ],
   "source": [
    "from gesla import GeslaDataset\n",
    "meta_file = \"/work/jms/gesla/GESLA3_ALL.csv\"\n",
    "data_path = \"/net/jms/obs/gesla/\"\n",
    "\n",
    "g3 = GeslaDataset(meta_file=meta_file, data_path=data_path)\n",
    "\n",
    "# -- define box centered at NYC -- (there are many gauges within this box)\n",
    "south_lat = 38; north_lat = 39;\n",
    "west_lon = 141; east_lon = 143;\n",
    "# -- search for data within box -- \n",
    "data = g3.load_lat_lon_range(south_lat=south_lat,north_lat=north_lat,west_lon=west_lon,east_lon=east_lon)\n",
    "print(data.site_name.values)"
   ]
  },
  {
   "cell_type": "code",
   "execution_count": 6,
   "id": "d6a71870-10ab-4c15-98ad-4919e9bf6d69",
   "metadata": {
    "scrolled": true
   },
   "outputs": [
    {
     "name": "stderr",
     "output_type": "stream",
     "text": [
      "/work4/jms/gesla/gesla.py:54: FutureWarning: Support for nested sequences for 'parse_dates' in pd.read_csv is deprecated. Combine the desired columns with pd.to_datetime after parsing instead.\n",
      "  data = pd.read_csv(\n"
     ]
    }
   ],
   "source": [
    "# -- load selected tide gauge,convert to xarray dataarray, and slice in time -- \n",
    "g3_i, g3_i_meta = g3.file_to_pandas('hiroshima-hd14-jpn-jodc_jcg')\n",
    "g3_k = g3_i.to_xarray()\n",
    "g2_k = g3_k.sel(date_time=slice('1800','2021'))"
   ]
  },
  {
   "cell_type": "code",
   "execution_count": 9,
   "id": "9106b3ed-760f-4fa2-87d2-a1967676b245",
   "metadata": {},
   "outputs": [
    {
     "data": {
      "text/plain": [
       "filename                                 hiroshima-hd14-jpn-jodc_jcg\n",
       "site_name                                                  Hiroshima\n",
       "site_code                                                       HD14\n",
       "country                                                          JPN\n",
       "contributor_abbreviated                                     JODC_JCG\n",
       "contributor_full                     Japan Oceanographic Data Center\n",
       "contributor_website        https://jdoss1.jodc.go.jp/vpage/tide.html\n",
       "contributor_contact                              analysis@jodc.go.jp\n",
       "orginator                                          Japan Coast Guard\n",
       "originator_website         https://jdoss1.jodc.go.jp/vpage/tide.html\n",
       "originator_contact                               analysis@jodc.go.jp\n",
       "latitude                                                    34.35305\n",
       "longitude                                                 132.464717\n",
       "coordinate_system                                        Unspecified\n",
       "start_date_time                                  1951-12-31 15:00:00\n",
       "end_date_time                                    2019-12-31 14:00:00\n",
       "number_of_years                                                   69\n",
       "time_zone_hours                                                    0\n",
       "datum_information                                Zero of Tide Height\n",
       "instrument                                                     Float\n",
       "precision                                                Unspecified\n",
       "null_value                                                  -99.9999\n",
       "gauge_type                                                   Coastal\n",
       "overall_record_quality                         Possible datum issues\n",
       "Name: 698, dtype: object"
      ]
     },
     "execution_count": 9,
     "metadata": {},
     "output_type": "execute_result"
    }
   ],
   "source": [
    "g3_i_meta"
   ]
  },
  {
   "cell_type": "code",
   "execution_count": null,
   "id": "8cee9083-ffa9-4ac3-81eb-fc2bcef5eb32",
   "metadata": {},
   "outputs": [],
   "source": []
  }
 ],
 "metadata": {
  "kernelspec": {
   "display_name": "Python 3 (ipykernel)",
   "language": "python",
   "name": "python3"
  },
  "language_info": {
   "codemirror_mode": {
    "name": "ipython",
    "version": 3
   },
   "file_extension": ".py",
   "mimetype": "text/x-python",
   "name": "python",
   "nbconvert_exporter": "python",
   "pygments_lexer": "ipython3",
   "version": "3.11.9"
  }
 },
 "nbformat": 4,
 "nbformat_minor": 5
}
